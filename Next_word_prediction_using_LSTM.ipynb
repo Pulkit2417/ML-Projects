{
  "nbformat": 4,
  "nbformat_minor": 0,
  "metadata": {
    "colab": {
      "provenance": []
    },
    "kernelspec": {
      "name": "python3",
      "display_name": "Python 3"
    },
    "language_info": {
      "name": "python"
    },
    "accelerator": "GPU",
    "gpuClass": "standard"
  },
  "cells": [
    {
      "cell_type": "code",
      "execution_count": null,
      "metadata": {
        "id": "qsg4Elb3a9xU"
      },
      "outputs": [],
      "source": [
        "import tensorflow as tf\n",
        "from tensorflow.keras.preprocessing.text import Tokenizer\n",
        "from tensorflow.keras.layers import Embedding, LSTM, Dense\n",
        "from tensorflow.keras.models import Sequential\n",
        "from tensorflow.keras.utils import to_categorical\n",
        "from tensorflow.keras.optimizers import Adam\n",
        "import pickle\n",
        "import numpy as np\n",
        "import os"
      ]
    },
    {
      "cell_type": "code",
      "source": [
        "file = open(\"Pride and Prejudice.txt\", \"r\", encoding = \"utf8\")\n",
        "\n",
        "# store file in list\n",
        "lines = []\n",
        "for i in file:\n",
        "    lines.append(i)\n",
        "\n",
        "# Convert list to string\n",
        "data = \"\"\n",
        "for i in lines:\n",
        "  data = ' '. join(lines) \n",
        "\n",
        "#replace unnecessary stuff with space\n",
        "data = data.replace('\\n', '').replace('\\r', '').replace('\\ufeff', '').replace('“','').replace('”','')  #new line, carriage return, unicode character --> replace by space\n",
        "\n",
        "#remove unnecessary spaces \n",
        "data = data.split()\n",
        "data = ' '.join(data)\n",
        "data[:500]\n",
        "\n"
      ],
      "metadata": {
        "colab": {
          "base_uri": "https://localhost:8080/",
          "height": 140
        },
        "id": "THZec2VCcEVe",
        "outputId": "617df4bc-5e5f-4091-ef3b-c6bbc14b2268"
      },
      "execution_count": null,
      "outputs": [
        {
          "output_type": "execute_result",
          "data": {
            "text/plain": [
              "'The Project Gutenberg eBook of Pride and prejudice, by Jane Austen This eBook is for the use of anyone anywhere in the United States and most other parts of the world at no cost and with almost no restrictions whatsoever. You may copy it, give it away or re-use it under the terms of the Project Gutenberg License included with this eBook or online at www.gutenberg.org. If you are not located in the United States, you will have to check the laws of the country where you are located before using th'"
            ],
            "application/vnd.google.colaboratory.intrinsic+json": {
              "type": "string"
            }
          },
          "metadata": {},
          "execution_count": 17
        }
      ]
    },
    {
      "cell_type": "code",
      "source": [
        "len(data)"
      ],
      "metadata": {
        "id": "sw_6q5N8cEXe",
        "colab": {
          "base_uri": "https://localhost:8080/"
        },
        "outputId": "ea8a4968-1ec2-4981-a5f7-076e30aa4217"
      },
      "execution_count": null,
      "outputs": [
        {
          "output_type": "execute_result",
          "data": {
            "text/plain": [
              "737628"
            ]
          },
          "metadata": {},
          "execution_count": 10
        }
      ]
    },
    {
      "cell_type": "markdown",
      "source": [
        "# **Apply tokenization**"
      ],
      "metadata": {
        "id": "VtpmknG_EI4O"
      }
    },
    {
      "cell_type": "code",
      "source": [
        "tokenizer = Tokenizer()\n",
        "tokenizer.fit_on_texts([data])\n",
        "\n",
        "# saving the tokenizer for predict function\n",
        "pickle.dump(tokenizer, open('token.pkl', 'wb'))\n",
        "\n",
        "sequence_data = tokenizer.texts_to_sequences([data])[0]\n",
        "sequence_data[:15]"
      ],
      "metadata": {
        "id": "9YWC8VsAcEbW",
        "colab": {
          "base_uri": "https://localhost:8080/"
        },
        "outputId": "bfcff616-7fcb-47c9-e36c-77f2393769b4"
      },
      "execution_count": null,
      "outputs": [
        {
          "output_type": "execute_result",
          "data": {
            "text/plain": [
              "[1, 182, 164, 1001, 3, 299, 4, 946, 30, 72, 710, 41, 1001, 23, 21]"
            ]
          },
          "metadata": {},
          "execution_count": 18
        }
      ]
    },
    {
      "cell_type": "code",
      "source": [
        "len(sequence_data)"
      ],
      "metadata": {
        "colab": {
          "base_uri": "https://localhost:8080/"
        },
        "id": "nnemNhhmEx5t",
        "outputId": "a98b46d8-1e3e-4309-df1c-4c514467fa67"
      },
      "execution_count": null,
      "outputs": [
        {
          "output_type": "execute_result",
          "data": {
            "text/plain": [
              "131237"
            ]
          },
          "metadata": {},
          "execution_count": 19
        }
      ]
    },
    {
      "cell_type": "code",
      "source": [
        "vocab_size = len(tokenizer.word_index) + 1\n",
        "print(vocab_size)"
      ],
      "metadata": {
        "colab": {
          "base_uri": "https://localhost:8080/"
        },
        "id": "Esr4pWc-EiZF",
        "outputId": "80bd8177-2230-4dff-eee4-97cae9208de2"
      },
      "execution_count": null,
      "outputs": [
        {
          "output_type": "stream",
          "name": "stdout",
          "text": [
            "7251\n"
          ]
        }
      ]
    },
    {
      "cell_type": "code",
      "source": [
        "sequences = []\n",
        "\n",
        "for i in range(3, len(sequence_data)):\n",
        "    words = sequence_data[i-3:i+1]\n",
        "    sequences.append(words)\n",
        "    \n",
        "print(\"The Length of sequences are: \", len(sequences))\n",
        "sequences = np.array(sequences)\n",
        "sequences[:10]"
      ],
      "metadata": {
        "colab": {
          "base_uri": "https://localhost:8080/"
        },
        "id": "BEeU2maZH96Q",
        "outputId": "f4807e72-3e1c-4f8f-bbcc-1c2dc0bf0e1e"
      },
      "execution_count": null,
      "outputs": [
        {
          "output_type": "stream",
          "name": "stdout",
          "text": [
            "The Length of sequences are:  131234\n"
          ]
        },
        {
          "output_type": "execute_result",
          "data": {
            "text/plain": [
              "array([[   1,  182,  164, 1001],\n",
              "       [ 182,  164, 1001,    3],\n",
              "       [ 164, 1001,    3,  299],\n",
              "       [1001,    3,  299,    4],\n",
              "       [   3,  299,    4,  946],\n",
              "       [ 299,    4,  946,   30],\n",
              "       [   4,  946,   30,   72],\n",
              "       [ 946,   30,   72,  710],\n",
              "       [  30,   72,  710,   41],\n",
              "       [  72,  710,   41, 1001]])"
            ]
          },
          "metadata": {},
          "execution_count": 21
        }
      ]
    },
    {
      "cell_type": "code",
      "source": [
        "X = []\n",
        "y = []\n",
        "\n",
        "for i in sequences:\n",
        "    X.append(i[0:3])\n",
        "    y.append(i[3])\n",
        "    \n",
        "X = np.array(X)\n",
        "y = np.array(y)"
      ],
      "metadata": {
        "id": "qcUhIJgAEibq"
      },
      "execution_count": null,
      "outputs": []
    },
    {
      "cell_type": "code",
      "source": [],
      "metadata": {
        "id": "nx9hG6HNEikX"
      },
      "execution_count": null,
      "outputs": []
    },
    {
      "cell_type": "code",
      "source": [
        "print(\"Data: \", X[:10])\n",
        "print(\"Response: \", y[:10])"
      ],
      "metadata": {
        "colab": {
          "base_uri": "https://localhost:8080/"
        },
        "id": "e5ikuKVUIGv3",
        "outputId": "ae63d8dc-4b2d-496e-a1a4-4144b0c404ca"
      },
      "execution_count": null,
      "outputs": [
        {
          "output_type": "stream",
          "name": "stdout",
          "text": [
            "Data:  [[   1  182  164]\n",
            " [ 182  164 1001]\n",
            " [ 164 1001    3]\n",
            " [1001    3  299]\n",
            " [   3  299    4]\n",
            " [ 299    4  946]\n",
            " [   4  946   30]\n",
            " [ 946   30   72]\n",
            " [  30   72  710]\n",
            " [  72  710   41]]\n",
            "Response:  [1001    3  299    4  946   30   72  710   41 1001]\n"
          ]
        }
      ]
    },
    {
      "cell_type": "code",
      "source": [
        "y = to_categorical(y, num_classes=vocab_size)\n",
        "y[:5]"
      ],
      "metadata": {
        "colab": {
          "base_uri": "https://localhost:8080/"
        },
        "id": "ygJ8CKkwEim3",
        "outputId": "7d5c0ca3-0fd3-4917-8a53-091627b53ece"
      },
      "execution_count": null,
      "outputs": [
        {
          "output_type": "execute_result",
          "data": {
            "text/plain": [
              "array([[0., 0., 0., ..., 0., 0., 0.],\n",
              "       [0., 0., 0., ..., 0., 0., 0.],\n",
              "       [0., 0., 0., ..., 0., 0., 0.],\n",
              "       [0., 0., 0., ..., 0., 0., 0.],\n",
              "       [0., 0., 0., ..., 0., 0., 0.]], dtype=float32)"
            ]
          },
          "metadata": {},
          "execution_count": 24
        }
      ]
    },
    {
      "cell_type": "code",
      "source": [
        "model = Sequential()\n",
        "model.add(Embedding(vocab_size, 10, input_length=3))\n",
        "model.add(LSTM(1000, return_sequences=True))\n",
        "model.add(LSTM(1000))\n",
        "model.add(Dense(1000, activation=\"relu\"))\n",
        "model.add(Dense(vocab_size, activation=\"softmax\"))"
      ],
      "metadata": {
        "id": "A39XuwCPIKV9"
      },
      "execution_count": null,
      "outputs": []
    },
    {
      "cell_type": "code",
      "source": [
        "\n",
        "model.summary()"
      ],
      "metadata": {
        "colab": {
          "base_uri": "https://localhost:8080/"
        },
        "id": "-HGO1YOuIKah",
        "outputId": "a294213e-5556-4210-ad56-d0a248585be9"
      },
      "execution_count": null,
      "outputs": [
        {
          "output_type": "stream",
          "name": "stdout",
          "text": [
            "Model: \"sequential\"\n",
            "_________________________________________________________________\n",
            " Layer (type)                Output Shape              Param #   \n",
            "=================================================================\n",
            " embedding (Embedding)       (None, 3, 10)             72510     \n",
            "                                                                 \n",
            " lstm (LSTM)                 (None, 3, 1000)           4044000   \n",
            "                                                                 \n",
            " lstm_1 (LSTM)               (None, 1000)              8004000   \n",
            "                                                                 \n",
            " dense (Dense)               (None, 1000)              1001000   \n",
            "                                                                 \n",
            " dense_1 (Dense)             (None, 7251)              7258251   \n",
            "                                                                 \n",
            "=================================================================\n",
            "Total params: 20,379,761\n",
            "Trainable params: 20,379,761\n",
            "Non-trainable params: 0\n",
            "_________________________________________________________________\n"
          ]
        }
      ]
    },
    {
      "cell_type": "code",
      "source": [
        "from tensorflow import keras\n",
        "from keras.utils.vis_utils import plot_model\n",
        "\n",
        "keras.utils.plot_model(model, to_file='plot.png', show_layer_names=True)"
      ],
      "metadata": {
        "colab": {
          "base_uri": "https://localhost:8080/",
          "height": 564
        },
        "id": "5Zj4GfvtIKhQ",
        "outputId": "4f30d232-4f6a-4ef6-ffa2-9c6688c87fe0"
      },
      "execution_count": null,
      "outputs": [
        {
          "output_type": "execute_result",
          "data": {
            "image/png": "[encoded data removed]",
            "text/plain": [
              "<IPython.core.display.Image object>"
            ]
          },
          "metadata": {},
          "execution_count": 27
        }
      ]
    },
    {
      "cell_type": "code",
      "source": [
        "from tensorflow.keras.callbacks import ModelCheckpoint\n",
        "\n",
        "checkpoint = ModelCheckpoint(\"next_words.h5\", monitor='loss', verbose=1, save_best_only=True)\n",
        "model.compile(loss=\"categorical_crossentropy\", optimizer=Adam(learning_rate=0.001))\n",
        "model.fit(X, y, epochs=70, batch_size=64, callbacks=[checkpoint])\n"
      ],
      "metadata": {
        "colab": {
          "base_uri": "https://localhost:8080/"
        },
        "id": "tpmDnlxNIKn2",
        "outputId": "11caccd0-ca07-4a12-a745-feb5994f3919"
      },
      "execution_count": null,
      "outputs": [
        {
          "output_type": "stream",
          "name": "stdout",
          "text": [
            "Epoch 1/70\n",
            "2051/2051 [==============================] - ETA: 0s - loss: 6.2245\n",
            "Epoch 1: loss improved from inf to 6.22448, saving model to next_words.h5\n",
            "2051/2051 [==============================] - 45s 17ms/step - loss: 6.2245\n",
            "Epoch 2/70\n",
            "2050/2051 [============================>.] - ETA: 0s - loss: 5.5836\n",
            "Epoch 2: loss improved from 6.22448 to 5.58358, saving model to next_words.h5\n",
            "2051/2051 [==============================] - 30s 15ms/step - loss: 5.5836\n",
            "Epoch 3/70\n",
            "2051/2051 [==============================] - ETA: 0s - loss: 5.2547\n",
            "Epoch 3: loss improved from 5.58358 to 5.25466, saving model to next_words.h5\n",
            "2051/2051 [==============================] - 31s 15ms/step - loss: 5.2547\n",
            "Epoch 4/70\n",
            "2051/2051 [==============================] - ETA: 0s - loss: 5.0211\n",
            "Epoch 4: loss improved from 5.25466 to 5.02107, saving model to next_words.h5\n",
            "2051/2051 [==============================] - 31s 15ms/step - loss: 5.0211\n",
            "Epoch 5/70\n",
            "2051/2051 [==============================] - ETA: 0s - loss: 4.8212\n",
            "Epoch 5: loss improved from 5.02107 to 4.82117, saving model to next_words.h5\n",
            "2051/2051 [==============================] - 31s 15ms/step - loss: 4.8212\n",
            "Epoch 6/70\n",
            "2051/2051 [==============================] - ETA: 0s - loss: 4.6257\n",
            "Epoch 6: loss improved from 4.82117 to 4.62570, saving model to next_words.h5\n",
            "2051/2051 [==============================] - 30s 15ms/step - loss: 4.6257\n",
            "Epoch 7/70\n",
            "2051/2051 [==============================] - ETA: 0s - loss: 4.4282\n",
            "Epoch 7: loss improved from 4.62570 to 4.42823, saving model to next_words.h5\n",
            "2051/2051 [==============================] - 31s 15ms/step - loss: 4.4282\n",
            "Epoch 8/70\n",
            "2051/2051 [==============================] - ETA: 0s - loss: 4.2273\n",
            "Epoch 8: loss improved from 4.42823 to 4.22733, saving model to next_words.h5\n",
            "2051/2051 [==============================] - 31s 15ms/step - loss: 4.2273\n",
            "Epoch 9/70\n",
            "2048/2051 [============================>.] - ETA: 0s - loss: 4.0159\n",
            "Epoch 9: loss improved from 4.22733 to 4.01583, saving model to next_words.h5\n",
            "2051/2051 [==============================] - 31s 15ms/step - loss: 4.0158\n",
            "Epoch 10/70\n",
            "2049/2051 [============================>.] - ETA: 0s - loss: 3.7997\n",
            "Epoch 10: loss improved from 4.01583 to 3.79976, saving model to next_words.h5\n",
            "2051/2051 [==============================] - 32s 15ms/step - loss: 3.7998\n",
            "Epoch 11/70\n",
            "2051/2051 [==============================] - ETA: 0s - loss: 3.5806\n",
            "Epoch 11: loss improved from 3.79976 to 3.58060, saving model to next_words.h5\n",
            "2051/2051 [==============================] - 31s 15ms/step - loss: 3.5806\n",
            "Epoch 12/70\n",
            "2051/2051 [==============================] - ETA: 0s - loss: 3.3612\n",
            "Epoch 12: loss improved from 3.58060 to 3.36119, saving model to next_words.h5\n",
            "2051/2051 [==============================] - 31s 15ms/step - loss: 3.3612\n",
            "Epoch 13/70\n",
            "2048/2051 [============================>.] - ETA: 0s - loss: 3.1398\n",
            "Epoch 13: loss improved from 3.36119 to 3.13962, saving model to next_words.h5\n",
            "2051/2051 [==============================] - 31s 15ms/step - loss: 3.1396\n",
            "Epoch 14/70\n",
            "2048/2051 [============================>.] - ETA: 0s - loss: 2.9201\n",
            "Epoch 14: loss improved from 3.13962 to 2.92012, saving model to next_words.h5\n",
            "2051/2051 [==============================] - 31s 15ms/step - loss: 2.9201\n",
            "Epoch 15/70\n",
            "2050/2051 [============================>.] - ETA: 0s - loss: 2.6901\n",
            "Epoch 15: loss improved from 2.92012 to 2.69015, saving model to next_words.h5\n",
            "2051/2051 [==============================] - 31s 15ms/step - loss: 2.6902\n",
            "Epoch 16/70\n",
            "2051/2051 [==============================] - ETA: 0s - loss: 2.4659\n",
            "Epoch 16: loss improved from 2.69015 to 2.46588, saving model to next_words.h5\n",
            "2051/2051 [==============================] - 31s 15ms/step - loss: 2.4659\n",
            "Epoch 17/70\n",
            "2051/2051 [==============================] - ETA: 0s - loss: 2.2360\n",
            "Epoch 17: loss improved from 2.46588 to 2.23595, saving model to next_words.h5\n",
            "2051/2051 [==============================] - 32s 16ms/step - loss: 2.2360\n",
            "Epoch 18/70\n",
            "2051/2051 [==============================] - ETA: 0s - loss: 2.0160\n",
            "Epoch 18: loss improved from 2.23595 to 2.01598, saving model to next_words.h5\n",
            "2051/2051 [==============================] - 31s 15ms/step - loss: 2.0160\n",
            "Epoch 19/70\n",
            "2050/2051 [============================>.] - ETA: 0s - loss: 1.8115\n",
            "Epoch 19: loss improved from 2.01598 to 1.81158, saving model to next_words.h5\n",
            "2051/2051 [==============================] - 31s 15ms/step - loss: 1.8116\n",
            "Epoch 20/70\n",
            "2051/2051 [==============================] - ETA: 0s - loss: 1.6198\n",
            "Epoch 20: loss improved from 1.81158 to 1.61978, saving model to next_words.h5\n",
            "2051/2051 [==============================] - 31s 15ms/step - loss: 1.6198\n",
            "Epoch 21/70\n",
            "2051/2051 [==============================] - ETA: 0s - loss: 1.4473\n",
            "Epoch 21: loss improved from 1.61978 to 1.44733, saving model to next_words.h5\n",
            "2051/2051 [==============================] - 32s 15ms/step - loss: 1.4473\n",
            "Epoch 22/70\n",
            "2050/2051 [============================>.] - ETA: 0s - loss: 1.3051\n",
            "Epoch 22: loss improved from 1.44733 to 1.30498, saving model to next_words.h5\n",
            "2051/2051 [==============================] - 31s 15ms/step - loss: 1.3050\n",
            "Epoch 23/70\n",
            "2051/2051 [==============================] - ETA: 0s - loss: 1.1814\n",
            "Epoch 23: loss improved from 1.30498 to 1.18145, saving model to next_words.h5\n",
            "2051/2051 [==============================] - 32s 16ms/step - loss: 1.1814\n",
            "Epoch 24/70\n",
            "2049/2051 [============================>.] - ETA: 0s - loss: 1.0766\n",
            "Epoch 24: loss improved from 1.18145 to 1.07660, saving model to next_words.h5\n",
            "2051/2051 [==============================] - 32s 15ms/step - loss: 1.0766\n",
            "Epoch 25/70\n",
            "2050/2051 [============================>.] - ETA: 0s - loss: 0.9931\n",
            "Epoch 25: loss improved from 1.07660 to 0.99304, saving model to next_words.h5\n",
            "2051/2051 [==============================] - 31s 15ms/step - loss: 0.9930\n",
            "Epoch 26/70\n",
            "2051/2051 [==============================] - ETA: 0s - loss: 0.9245\n",
            "Epoch 26: loss improved from 0.99304 to 0.92447, saving model to next_words.h5\n",
            "2051/2051 [==============================] - 32s 16ms/step - loss: 0.9245\n",
            "Epoch 27/70\n",
            "2051/2051 [==============================] - ETA: 0s - loss: 0.8713\n",
            "Epoch 27: loss improved from 0.92447 to 0.87127, saving model to next_words.h5\n",
            "2051/2051 [==============================] - 32s 16ms/step - loss: 0.8713\n",
            "Epoch 28/70\n",
            "2048/2051 [============================>.] - ETA: 0s - loss: 0.8239\n",
            "Epoch 28: loss improved from 0.87127 to 0.82411, saving model to next_words.h5\n",
            "2051/2051 [==============================] - 31s 15ms/step - loss: 0.8241\n",
            "Epoch 29/70\n",
            "2051/2051 [==============================] - ETA: 0s - loss: 0.7910\n",
            "Epoch 29: loss improved from 0.82411 to 0.79101, saving model to next_words.h5\n",
            "2051/2051 [==============================] - 32s 15ms/step - loss: 0.7910\n",
            "Epoch 30/70\n",
            "2051/2051 [==============================] - ETA: 0s - loss: 0.7591\n",
            "Epoch 30: loss improved from 0.79101 to 0.75912, saving model to next_words.h5\n",
            "2051/2051 [==============================] - 31s 15ms/step - loss: 0.7591\n",
            "Epoch 31/70\n",
            "2050/2051 [============================>.] - ETA: 0s - loss: 0.7331\n",
            "Epoch 31: loss improved from 0.75912 to 0.73312, saving model to next_words.h5\n",
            "2051/2051 [==============================] - 31s 15ms/step - loss: 0.7331\n",
            "Epoch 32/70\n",
            "2051/2051 [==============================] - ETA: 0s - loss: 0.7064\n",
            "Epoch 32: loss improved from 0.73312 to 0.70640, saving model to next_words.h5\n",
            "2051/2051 [==============================] - 31s 15ms/step - loss: 0.7064\n",
            "Epoch 33/70\n",
            "2048/2051 [============================>.] - ETA: 0s - loss: 0.6853\n",
            "Epoch 33: loss improved from 0.70640 to 0.68527, saving model to next_words.h5\n",
            "2051/2051 [==============================] - 31s 15ms/step - loss: 0.6853\n",
            "Epoch 34/70\n",
            "2048/2051 [============================>.] - ETA: 0s - loss: 0.6690\n",
            "Epoch 34: loss improved from 0.68527 to 0.66925, saving model to next_words.h5\n",
            "2051/2051 [==============================] - 31s 15ms/step - loss: 0.6693\n",
            "Epoch 35/70\n",
            "2048/2051 [============================>.] - ETA: 0s - loss: 0.6525\n",
            "Epoch 35: loss improved from 0.66925 to 0.65270, saving model to next_words.h5\n",
            "2051/2051 [==============================] - 31s 15ms/step - loss: 0.6527\n",
            "Epoch 36/70\n",
            "2048/2051 [============================>.] - ETA: 0s - loss: 0.6390\n",
            "Epoch 36: loss improved from 0.65270 to 0.63906, saving model to next_words.h5\n",
            "2051/2051 [==============================] - 31s 15ms/step - loss: 0.6391\n",
            "Epoch 37/70\n",
            "2049/2051 [============================>.] - ETA: 0s - loss: 0.6241\n",
            "Epoch 37: loss improved from 0.63906 to 0.62421, saving model to next_words.h5\n",
            "2051/2051 [==============================] - 31s 15ms/step - loss: 0.6242\n",
            "Epoch 38/70\n",
            "2049/2051 [============================>.] - ETA: 0s - loss: 0.6117\n",
            "Epoch 38: loss improved from 0.62421 to 0.61154, saving model to next_words.h5\n",
            "2051/2051 [==============================] - 31s 15ms/step - loss: 0.6115\n",
            "Epoch 39/70\n",
            "2048/2051 [============================>.] - ETA: 0s - loss: 0.6020\n",
            "Epoch 39: loss improved from 0.61154 to 0.60186, saving model to next_words.h5\n",
            "2051/2051 [==============================] - 31s 15ms/step - loss: 0.6019\n",
            "Epoch 40/70\n",
            "2048/2051 [============================>.] - ETA: 0s - loss: 0.5931\n",
            "Epoch 40: loss improved from 0.60186 to 0.59324, saving model to next_words.h5\n",
            "2051/2051 [==============================] - 31s 15ms/step - loss: 0.5932\n",
            "Epoch 41/70\n",
            "2051/2051 [==============================] - ETA: 0s - loss: 0.5841\n",
            "Epoch 41: loss improved from 0.59324 to 0.58413, saving model to next_words.h5\n",
            "2051/2051 [==============================] - 31s 15ms/step - loss: 0.5841\n",
            "Epoch 42/70\n",
            "2051/2051 [==============================] - ETA: 0s - loss: 0.5729\n",
            "Epoch 42: loss improved from 0.58413 to 0.57290, saving model to next_words.h5\n",
            "2051/2051 [==============================] - 31s 15ms/step - loss: 0.5729\n",
            "Epoch 43/70\n",
            "2050/2051 [============================>.] - ETA: 0s - loss: 0.5630\n",
            "Epoch 43: loss improved from 0.57290 to 0.56304, saving model to next_words.h5\n",
            "2051/2051 [==============================] - 31s 15ms/step - loss: 0.5630\n",
            "Epoch 44/70\n",
            "2048/2051 [============================>.] - ETA: 0s - loss: 0.5571\n",
            "Epoch 44: loss improved from 0.56304 to 0.55720, saving model to next_words.h5\n",
            "2051/2051 [==============================] - 31s 15ms/step - loss: 0.5572\n",
            "Epoch 45/70\n",
            "2049/2051 [============================>.] - ETA: 0s - loss: 0.5501\n",
            "Epoch 45: loss improved from 0.55720 to 0.55007, saving model to next_words.h5\n",
            "2051/2051 [==============================] - 31s 15ms/step - loss: 0.5501\n",
            "Epoch 46/70\n",
            "2051/2051 [==============================] - ETA: 0s - loss: 0.5433\n",
            "Epoch 46: loss improved from 0.55007 to 0.54329, saving model to next_words.h5\n",
            "2051/2051 [==============================] - 31s 15ms/step - loss: 0.5433\n",
            "Epoch 47/70\n",
            "2049/2051 [============================>.] - ETA: 0s - loss: 0.5376\n",
            "Epoch 47: loss improved from 0.54329 to 0.53750, saving model to next_words.h5\n",
            "2051/2051 [==============================] - 31s 15ms/step - loss: 0.5375\n",
            "Epoch 48/70\n",
            "2051/2051 [==============================] - ETA: 0s - loss: 0.5294\n",
            "Epoch 48: loss improved from 0.53750 to 0.52940, saving model to next_words.h5\n",
            "2051/2051 [==============================] - 31s 15ms/step - loss: 0.5294\n",
            "Epoch 49/70\n",
            "2050/2051 [============================>.] - ETA: 0s - loss: 0.5245\n",
            "Epoch 49: loss improved from 0.52940 to 0.52455, saving model to next_words.h5\n",
            "2051/2051 [==============================] - 31s 15ms/step - loss: 0.5245\n",
            "Epoch 50/70\n",
            "2051/2051 [==============================] - ETA: 0s - loss: 0.5174\n",
            "Epoch 50: loss improved from 0.52455 to 0.51737, saving model to next_words.h5\n",
            "2051/2051 [==============================] - 31s 15ms/step - loss: 0.5174\n",
            "Epoch 51/70\n",
            "2049/2051 [============================>.] - ETA: 0s - loss: 0.5142\n",
            "Epoch 51: loss improved from 0.51737 to 0.51426, saving model to next_words.h5\n",
            "2051/2051 [==============================] - 31s 15ms/step - loss: 0.5143\n",
            "Epoch 52/70\n",
            "2051/2051 [==============================] - ETA: 0s - loss: 0.5091\n",
            "Epoch 52: loss improved from 0.51426 to 0.50910, saving model to next_words.h5\n",
            "2051/2051 [==============================] - 31s 15ms/step - loss: 0.5091\n",
            "Epoch 53/70\n",
            "2051/2051 [==============================] - ETA: 0s - loss: 0.5008\n",
            "Epoch 53: loss improved from 0.50910 to 0.50081, saving model to next_words.h5\n",
            "2051/2051 [==============================] - 31s 15ms/step - loss: 0.5008\n",
            "Epoch 54/70\n",
            "2051/2051 [==============================] - ETA: 0s - loss: 0.5004\n",
            "Epoch 54: loss improved from 0.50081 to 0.50045, saving model to next_words.h5\n",
            "2051/2051 [==============================] - 32s 15ms/step - loss: 0.5004\n",
            "Epoch 55/70\n",
            "2051/2051 [==============================] - ETA: 0s - loss: 0.4954\n",
            "Epoch 55: loss improved from 0.50045 to 0.49541, saving model to next_words.h5\n",
            "2051/2051 [==============================] - 31s 15ms/step - loss: 0.4954\n",
            "Epoch 56/70\n",
            "2049/2051 [============================>.] - ETA: 0s - loss: 0.4919\n",
            "Epoch 56: loss improved from 0.49541 to 0.49192, saving model to next_words.h5\n",
            "2051/2051 [==============================] - 31s 15ms/step - loss: 0.4919\n",
            "Epoch 57/70\n",
            "2051/2051 [==============================] - ETA: 0s - loss: 0.4856\n",
            "Epoch 57: loss improved from 0.49192 to 0.48558, saving model to next_words.h5\n",
            "2051/2051 [==============================] - 31s 15ms/step - loss: 0.4856\n",
            "Epoch 58/70\n",
            "2049/2051 [============================>.] - ETA: 0s - loss: 0.4828\n",
            "Epoch 58: loss improved from 0.48558 to 0.48291, saving model to next_words.h5\n",
            "2051/2051 [==============================] - 31s 15ms/step - loss: 0.4829\n",
            "Epoch 59/70\n",
            "2050/2051 [============================>.] - ETA: 0s - loss: 0.4781\n",
            "Epoch 59: loss improved from 0.48291 to 0.47800, saving model to next_words.h5\n",
            "2051/2051 [==============================] - 32s 15ms/step - loss: 0.4780\n",
            "Epoch 60/70\n",
            "2049/2051 [============================>.] - ETA: 0s - loss: 0.4765\n",
            "Epoch 60: loss improved from 0.47800 to 0.47655, saving model to next_words.h5\n",
            "2051/2051 [==============================] - 32s 15ms/step - loss: 0.4766\n",
            "Epoch 61/70\n",
            "2049/2051 [============================>.] - ETA: 0s - loss: 0.4768\n",
            "Epoch 61: loss did not improve from 0.47655\n",
            "2051/2051 [==============================] - 31s 15ms/step - loss: 0.4767\n",
            "Epoch 62/70\n",
            "2049/2051 [============================>.] - ETA: 0s - loss: 0.4673\n",
            "Epoch 62: loss improved from 0.47655 to 0.46730, saving model to next_words.h5\n",
            "2051/2051 [==============================] - 31s 15ms/step - loss: 0.4673\n",
            "Epoch 63/70\n",
            "2049/2051 [============================>.] - ETA: 0s - loss: 0.4676\n",
            "Epoch 63: loss did not improve from 0.46730\n",
            "2051/2051 [==============================] - 32s 15ms/step - loss: 0.4677\n",
            "Epoch 64/70\n",
            "2050/2051 [============================>.] - ETA: 0s - loss: 0.4619\n",
            "Epoch 64: loss improved from 0.46730 to 0.46182, saving model to next_words.h5\n",
            "2051/2051 [==============================] - 32s 16ms/step - loss: 0.4618\n",
            "Epoch 65/70\n",
            "2050/2051 [============================>.] - ETA: 0s - loss: 0.4604\n",
            "Epoch 65: loss improved from 0.46182 to 0.46036, saving model to next_words.h5\n",
            "2051/2051 [==============================] - 32s 16ms/step - loss: 0.4604\n",
            "Epoch 66/70\n",
            "2050/2051 [============================>.] - ETA: 0s - loss: 0.4570\n",
            "Epoch 66: loss improved from 0.46036 to 0.45710, saving model to next_words.h5\n",
            "2051/2051 [==============================] - 32s 15ms/step - loss: 0.4571\n",
            "Epoch 67/70\n",
            "2051/2051 [==============================] - ETA: 0s - loss: 0.4538\n",
            "Epoch 67: loss improved from 0.45710 to 0.45378, saving model to next_words.h5\n",
            "2051/2051 [==============================] - 32s 15ms/step - loss: 0.4538\n",
            "Epoch 68/70\n",
            "2050/2051 [============================>.] - ETA: 0s - loss: 0.4534\n",
            "Epoch 68: loss improved from 0.45378 to 0.45343, saving model to next_words.h5\n",
            "2051/2051 [==============================] - 32s 15ms/step - loss: 0.4534\n",
            "Epoch 69/70\n",
            "2049/2051 [============================>.] - ETA: 0s - loss: 0.4513\n",
            "Epoch 69: loss improved from 0.45343 to 0.45130, saving model to next_words.h5\n",
            "2051/2051 [==============================] - 32s 15ms/step - loss: 0.4513\n",
            "Epoch 70/70\n",
            "2050/2051 [============================>.] - ETA: 0s - loss: 0.4464\n",
            "Epoch 70: loss improved from 0.45130 to 0.44629, saving model to next_words.h5\n",
            "2051/2051 [==============================] - 32s 16ms/step - loss: 0.4463\n"
          ]
        },
        {
          "output_type": "execute_result",
          "data": {
            "text/plain": [
              "<keras.callbacks.History at 0x7f4e1b02cf70>"
            ]
          },
          "metadata": {},
          "execution_count": 28
        }
      ]
    },
    {
      "cell_type": "code",
      "source": [
        "from tensorflow.keras.models import load_model\n",
        "import numpy as np\n",
        "import pickle\n",
        "\n",
        "# Load the model and tokenizer\n",
        "model = load_model('next_words.h5')\n",
        "tokenizer = pickle.load(open('token.pkl', 'rb'))\n",
        "\n",
        "def Predict_Next_Words(model, tokenizer, text):\n",
        "\n",
        "  sequence = tokenizer.texts_to_sequences([text])\n",
        "  sequence = np.array(sequence)\n",
        "  preds = np.argmax(model.predict(sequence))\n",
        "  predicted_word = \"\"\n",
        "  \n",
        "  for key, value in tokenizer.word_index.items():\n",
        "      if value == preds:\n",
        "          predicted_word = key\n",
        "          break\n",
        "  \n",
        "  print(predicted_word)\n",
        "  return predicted_word\n",
        "\n",
        "while(True):\n",
        "  text = input(\"Enter your line: \")\n",
        "  \n",
        "  if text == \"0\":\n",
        "      print(\"Execution completed.....\")\n",
        "      break\n",
        "  \n",
        "  else:\n",
        "      try:\n",
        "          text = text.split(\" \")\n",
        "          text = text[-3:]\n",
        "          print(text)\n",
        "        \n",
        "          Predict_Next_Words(model, tokenizer, text)\n",
        "          \n",
        "      except Exception as e:\n",
        "        print(\"Error occurred: \",e)\n",
        "        continue"
      ],
      "metadata": {
        "colab": {
          "base_uri": "https://localhost:8080/"
        },
        "id": "VL2J9AoBIKq7",
        "outputId": "0f435649-c385-44d0-938f-715daf6a4659"
      },
      "execution_count": null,
      "outputs": [
        {
          "output_type": "stream",
          "name": "stdout",
          "text": [
            "Enter your line: price and prejudice\n",
            "['price', 'and', 'prejudice']\n",
            "1/1 [==============================] - 1s 885ms/step\n",
            "always\n",
            "Enter your line: 0\n",
            "Execution completed.....\n"
          ]
        }
      ]
    },
    {
      "cell_type": "code",
      "source": [],
      "metadata": {
        "id": "cxsM7IH3IKuI"
      },
      "execution_count": null,
      "outputs": []
    }
  ]
}